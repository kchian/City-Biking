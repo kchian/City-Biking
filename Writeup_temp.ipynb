{
 "cells": [
  {
   "cell_type": "markdown",
   "id": "54dff938",
   "metadata": {},
   "source": [
    "# Limitations and Considerations"
   ]
  },
  {
   "cell_type": "markdown",
   "id": "d68bf527",
   "metadata": {},
   "source": [
    "This data was collected across the SF bay area from mid-2013 to mid-2015. We first limit our analysis to the area of greatest bike concentration (and the namesake of the dataset), which is San Francisco proper. \n",
    "\n",
    "This is data collected from a pilot program in SF - and is one similar to modern programs found in other cities across the world, such as Helsinki. As a result, there are many benefits to studying it, for example:\n",
    "    - Patterns of adopting bikeshare programs for cities considering it\n",
    "    - Discovering the data needed to properly forecast usage\n",
    "\n",
    "SF has since changed their bike share system, obtaining corporate sponsorship and rebranding the system to \"Bay Wheels\". The system currently includes an electric (\"adaptive\") bike system in tandem with a classic bike system, all hosted on Lyft's website. \n",
    "\n",
    "We believe analyzing bike data and carefully collecting other city-wide data is key to creating a more sustainable future.\n",
    "\n",
    "\n",
    "Further Reading / Sources\n",
    "- [The most recent bike share website](https://www.lyft.com/bikes/bay-wheels)\n",
    "- [SF Municipal Transportation Agency Website](https://www.sfmta.com/getting-around/bike/bike-share)"
   ]
  },
  {
   "cell_type": "code",
   "execution_count": null,
   "id": "e37173bc",
   "metadata": {},
   "outputs": [],
   "source": []
  }
 ],
 "metadata": {
  "kernelspec": {
   "display_name": "Python [conda env:ids]",
   "language": "python",
   "name": "conda-env-ids-py"
  },
  "language_info": {
   "codemirror_mode": {
    "name": "ipython",
    "version": 3
   },
   "file_extension": ".py",
   "mimetype": "text/x-python",
   "name": "python",
   "nbconvert_exporter": "python",
   "pygments_lexer": "ipython3",
   "version": "3.9.7"
  }
 },
 "nbformat": 4,
 "nbformat_minor": 5
}
